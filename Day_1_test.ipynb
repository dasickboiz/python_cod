{
 "cells": [
  {
   "cell_type": "code",
   "execution_count": 2,
   "id": "3289d0f1-85e3-4756-893d-be1f5bceed69",
   "metadata": {},
   "outputs": [
    {
     "name": "stdout",
     "output_type": "stream",
     "text": [
      "Hello World\n"
     ]
    }
   ],
   "source": [
    "print(\"Hello World\")\n"
   ]
  },
  {
   "cell_type": "code",
   "execution_count": 6,
   "id": "82d0d1b9",
   "metadata": {},
   "outputs": [
    {
     "data": {
      "text/plain": [
       "0"
      ]
     },
     "execution_count": 6,
     "metadata": {},
     "output_type": "execute_result"
    }
   ],
   "source": [
    "1 // 10"
   ]
  },
  {
   "cell_type": "code",
   "execution_count": 5,
   "id": "c1092c95",
   "metadata": {},
   "outputs": [
    {
     "name": "stdout",
     "output_type": "stream",
     "text": [
      "Rev =  54321\n"
     ]
    }
   ],
   "source": [
    "a = 12345\n",
    "rev = 0\n",
    "while a != 0:\n",
    "    temp = a % 10 # 5 4 3 2 1 \n",
    "    rev = rev * 10 + temp # 50 540 5430 54320 \n",
    "    a //= 10 # 1234 123 12 1\n",
    "print(\"Rev = \", rev)"
   ]
  },
  {
   "cell_type": "code",
   "execution_count": 3,
   "id": "7e2e3b57-226a-44c4-8fe6-1373e7a5d04a",
   "metadata": {},
   "outputs": [
    {
     "name": "stdout",
     "output_type": "stream",
     "text": [
      "tong =  35\n"
     ]
    }
   ],
   "source": [
    "m = 98765\n",
    "tong = 0\n",
    "while m != 0:\n",
    "    p = m % 10\n",
    "    tong += p\n",
    "    m //= 10\n",
    "print(\"tong = \", tong) "
   ]
  }
 ],
 "metadata": {
  "kernelspec": {
   "display_name": "Python 3 (ipykernel)",
   "language": "python",
   "name": "python3"
  },
  "language_info": {
   "codemirror_mode": {
    "name": "ipython",
    "version": 3
   },
   "file_extension": ".py",
   "mimetype": "text/x-python",
   "name": "python",
   "nbconvert_exporter": "python",
   "pygments_lexer": "ipython3",
   "version": "3.12.6"
  }
 },
 "nbformat": 4,
 "nbformat_minor": 5
}
